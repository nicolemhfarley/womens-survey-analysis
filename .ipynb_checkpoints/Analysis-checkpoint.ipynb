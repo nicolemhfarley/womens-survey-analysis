{
 "cells": [
  {
   "cell_type": "code",
   "execution_count": null,
   "metadata": {},
   "outputs": [],
   "source": [
    "import pandas as pd\n",
    "import numpy as np\n",
    "import matplotlib.pyplot as plt\n",
    "%matplotlib inline\n",
    "import seaborn as sns"
   ]
  },
  {
   "cell_type": "code",
   "execution_count": null,
   "metadata": {},
   "outputs": [],
   "source": [
    "sns.set_style('whitegrid')"
   ]
  },
  {
   "cell_type": "code",
   "execution_count": null,
   "metadata": {},
   "outputs": [],
   "source": [
    "survey = pd.read_excel('Survey_Data_Coded.xlsx', header=0)"
   ]
  },
  {
   "cell_type": "code",
   "execution_count": null,
   "metadata": {},
   "outputs": [],
   "source": [
    "survey.head().T"
   ]
  },
  {
   "cell_type": "code",
   "execution_count": null,
   "metadata": {},
   "outputs": [],
   "source": [
    "questions = survey.iloc[[0]]"
   ]
  },
  {
   "cell_type": "code",
   "execution_count": null,
   "metadata": {},
   "outputs": [],
   "source": [
    "questions.T"
   ]
  },
  {
   "cell_type": "code",
   "execution_count": null,
   "metadata": {},
   "outputs": [],
   "source": [
    "survey.shape"
   ]
  },
  {
   "cell_type": "code",
   "execution_count": null,
   "metadata": {},
   "outputs": [],
   "source": [
    "twenty_four = np.arange(0,24)"
   ]
  },
  {
   "cell_type": "code",
   "execution_count": null,
   "metadata": {},
   "outputs": [],
   "source": [
    "twenty_four"
   ]
  },
  {
   "cell_type": "code",
   "execution_count": null,
   "metadata": {},
   "outputs": [],
   "source": [
    "# reset columns to integers\n",
    "survey.columns = twenty_four"
   ]
  },
  {
   "cell_type": "code",
   "execution_count": null,
   "metadata": {},
   "outputs": [],
   "source": [
    "survey.columns"
   ]
  },
  {
   "cell_type": "code",
   "execution_count": null,
   "metadata": {},
   "outputs": [],
   "source": [
    "survey.head().T"
   ]
  },
  {
   "cell_type": "code",
   "execution_count": null,
   "metadata": {},
   "outputs": [],
   "source": [
    "# reset index to integers\n",
    "survey.reset_index(inplace=True)"
   ]
  },
  {
   "cell_type": "code",
   "execution_count": null,
   "metadata": {},
   "outputs": [],
   "source": [
    "survey.index, type(survey.columns)"
   ]
  },
  {
   "cell_type": "code",
   "execution_count": null,
   "metadata": {},
   "outputs": [],
   "source": [
    "survey[[8, 12, 16, 20]] = survey[[8, 12, 16, 20]].apply(pd.to_numeric, errors='coerce')"
   ]
  },
  {
   "cell_type": "code",
   "execution_count": null,
   "metadata": {},
   "outputs": [],
   "source": [
    "survey.info()"
   ]
  },
  {
   "cell_type": "code",
   "execution_count": null,
   "metadata": {},
   "outputs": [],
   "source": [
    "type(questions)\n",
    "questions.columns\n",
    "questions.loc[:,'Unnamed: 8']"
   ]
  },
  {
   "cell_type": "markdown",
   "metadata": {},
   "source": [
    "#### summary stats on product ratings"
   ]
  },
  {
   "cell_type": "code",
   "execution_count": null,
   "metadata": {},
   "outputs": [],
   "source": [
    "# score columns (1-5 ratings) for femine hygiene product ratings\n",
    "summary_stats = survey[[8, 12, 16, 20]].describe()"
   ]
  },
  {
   "cell_type": "raw",
   "metadata": {},
   "source": [
    "8 = pads, 12 = tampons, 16 = manstrual cups, 20 = reusable pads/period underwear"
   ]
  },
  {
   "cell_type": "code",
   "execution_count": null,
   "metadata": {},
   "outputs": [],
   "source": [
    "# change column names \n",
    "summary_stats.columns = ['Pads', 'Tampons', 'Menstrual Cups', 'Resusable pads/underwear']"
   ]
  },
  {
   "cell_type": "code",
   "execution_count": null,
   "metadata": {},
   "outputs": [],
   "source": [
    "summary_stats.to_csv('feminine_hygiene_product_ratings_summary_stats.csv')"
   ]
  },
  {
   "cell_type": "code",
   "execution_count": null,
   "metadata": {},
   "outputs": [],
   "source": [
    "# remove row containing questions\n",
    "survey.drop(0, axis=0, inplace=True)"
   ]
  },
  {
   "cell_type": "code",
   "execution_count": null,
   "metadata": {},
   "outputs": [],
   "source": [
    "questions.shape"
   ]
  },
  {
   "cell_type": "code",
   "execution_count": null,
   "metadata": {},
   "outputs": [],
   "source": [
    "questions.columns = twenty_four"
   ]
  },
  {
   "cell_type": "code",
   "execution_count": null,
   "metadata": {},
   "outputs": [],
   "source": [
    "questions.T"
   ]
  },
  {
   "cell_type": "code",
   "execution_count": null,
   "metadata": {},
   "outputs": [],
   "source": [
    "survey.info()"
   ]
  },
  {
   "cell_type": "code",
   "execution_count": null,
   "metadata": {},
   "outputs": [],
   "source": [
    "questions.T"
   ]
  },
  {
   "cell_type": "markdown",
   "metadata": {},
   "source": [
    "#### percentages of emotions felt toward each product"
   ]
  },
  {
   "cell_type": "code",
   "execution_count": null,
   "metadata": {},
   "outputs": [],
   "source": [
    "import numpy as np\n",
    "import pandas as pd\n",
    "from sklearn.cluster import KMeans\n",
    "from sklearn.feature_extraction.text import CountVectorizer, TfidfVectorizer\n",
    "from collections import Counter"
   ]
  },
  {
   "cell_type": "code",
   "execution_count": null,
   "metadata": {},
   "outputs": [],
   "source": [
    "period_management = survey[22]"
   ]
  },
  {
   "cell_type": "code",
   "execution_count": null,
   "metadata": {},
   "outputs": [],
   "source": [
    "period_management.value_counts(), period_management.shape"
   ]
  },
  {
   "cell_type": "code",
   "execution_count": null,
   "metadata": {},
   "outputs": [],
   "source": []
  },
  {
   "cell_type": "code",
   "execution_count": null,
   "metadata": {},
   "outputs": [],
   "source": [
    "alternate_period_management = survey[21]"
   ]
  },
  {
   "cell_type": "code",
   "execution_count": null,
   "metadata": {},
   "outputs": [],
   "source": [
    "alternate_period_management.shape\n",
    "# alternate_period_management.value_counts()"
   ]
  },
  {
   "cell_type": "code",
   "execution_count": null,
   "metadata": {},
   "outputs": [],
   "source": [
    "alternate_period_management.dropna(axis=0, inplace=True)"
   ]
  },
  {
   "cell_type": "code",
   "execution_count": null,
   "metadata": {},
   "outputs": [],
   "source": [
    "alternate_period_management.shape"
   ]
  },
  {
   "cell_type": "code",
   "execution_count": null,
   "metadata": {},
   "outputs": [],
   "source": [
    "alternate_period_management.head()"
   ]
  },
  {
   "cell_type": "code",
   "execution_count": null,
   "metadata": {},
   "outputs": [],
   "source": [
    "# alternate_period_management.value_counts()"
   ]
  },
  {
   "cell_type": "code",
   "execution_count": null,
   "metadata": {},
   "outputs": [],
   "source": [
    "reuseable_pads = survey[18]\n",
    "reuseable_pads.shape, reuseable_pads.isnull().sum()"
   ]
  },
  {
   "cell_type": "code",
   "execution_count": null,
   "metadata": {},
   "outputs": [],
   "source": [
    "reuseable_pads.head()"
   ]
  },
  {
   "cell_type": "code",
   "execution_count": null,
   "metadata": {},
   "outputs": [],
   "source": [
    "# group by emotion\n",
    "reuseable_pads_emotions = survey.groupby([19])[19].count()\n",
    "# get labels for pie chart\n",
    "reuseable_pads_emotions.index"
   ]
  },
  {
   "cell_type": "code",
   "execution_count": null,
   "metadata": {},
   "outputs": [],
   "source": [
    "# pie chart with percentages\n",
    "params = {'figure.figsize': [12,12],'font.size': 12.0} \n",
    "plt.rcParams.update(params)\n",
    "\n",
    "plt.pie(reuseable_pads_emotions, labels = reuseable_pads_emotions.index, autopct='%1.1f%%',\\\n",
    "        pctdistance=1.1, labeldistance=1.2)\n",
    "plt.title('Emotions toward Reuseable Pads/Period Underwear', fontsize=18)\n",
    "plt.savefig('./images/reuseable_products_emotions_pie.png')\n",
    "plt.show()\n"
   ]
  },
  {
   "cell_type": "code",
   "execution_count": null,
   "metadata": {},
   "outputs": [],
   "source": [
    "menstrual_cup = survey[14]\n",
    "menstrual_cup.shape, menstrual_cup.isnull().sum()"
   ]
  },
  {
   "cell_type": "code",
   "execution_count": null,
   "metadata": {},
   "outputs": [],
   "source": [
    "menstrual_cup.head()"
   ]
  },
  {
   "cell_type": "code",
   "execution_count": null,
   "metadata": {},
   "outputs": [],
   "source": [
    "# group by emotion\n",
    "menstrual_cup_emotions = survey.groupby([15])[15].count()\n",
    "# use index as labels for pie chart\n",
    "menstrual_cup_emotions.index"
   ]
  },
  {
   "cell_type": "code",
   "execution_count": null,
   "metadata": {},
   "outputs": [],
   "source": [
    "# pie chart with percentages\n",
    "params = {'figure.figsize': [12,12],'font.size': 12.0} \n",
    "plt.rcParams.update(params)\n",
    "\n",
    "plt.pie(menstrual_cup_emotions, labels = menstrual_cup_emotions.index, autopct='%1.1f%%',\\\n",
    "        pctdistance=1.1, labeldistance=1.2)\n",
    "plt.title('Emotions toward Menstrual', fontsize=18)\n",
    "\n",
    "plt.savefig('./images/menstrual_cup_emotions_pie.png')\n",
    "plt.show()"
   ]
  },
  {
   "cell_type": "code",
   "execution_count": null,
   "metadata": {},
   "outputs": [],
   "source": [
    "tampons = survey[10]\n",
    "tampons.shape, tampons.isnull().sum()"
   ]
  },
  {
   "cell_type": "code",
   "execution_count": null,
   "metadata": {},
   "outputs": [],
   "source": [
    "tampons.head()"
   ]
  },
  {
   "cell_type": "code",
   "execution_count": null,
   "metadata": {},
   "outputs": [],
   "source": [
    "# group by emotion\n",
    "tampons_emotions = survey.groupby([11])[11].count()\n",
    "# use index as labels for pie chart\n",
    "tampons_emotions.index"
   ]
  },
  {
   "cell_type": "code",
   "execution_count": null,
   "metadata": {},
   "outputs": [],
   "source": [
    "# pie chart with percentages\n",
    "params = {'figure.figsize': [12,12],'font.size': 12.0} \n",
    "plt.rcParams.update(params)\n",
    "\n",
    "plt.pie(tampons_emotions, labels = tampons_emotions.index, autopct='%1.1f%%',\\\n",
    "        pctdistance=1.1, labeldistance=1.2)\n",
    "plt.title('Emotions toward Tampons', fontsize=18)\n",
    "plt.savefig('./images/tampons_emotions_pie.png')\n",
    "\n",
    "plt.show()"
   ]
  },
  {
   "cell_type": "code",
   "execution_count": null,
   "metadata": {},
   "outputs": [],
   "source": [
    "pads = survey[6]\n",
    "pads.shape, pads.isnull().sum()"
   ]
  },
  {
   "cell_type": "code",
   "execution_count": null,
   "metadata": {},
   "outputs": [],
   "source": [
    "pads.head()"
   ]
  },
  {
   "cell_type": "code",
   "execution_count": null,
   "metadata": {},
   "outputs": [],
   "source": [
    "# group by emotion\n",
    "pads_emotions = survey.groupby([7])[7].count()\n",
    "# use index as labels for pie chart\n",
    "pads_emotions.index"
   ]
  },
  {
   "cell_type": "code",
   "execution_count": null,
   "metadata": {},
   "outputs": [],
   "source": [
    "# pie chart with percentages\n",
    "params = {'figure.figsize': [12,12],'font.size': 12.0} \n",
    "plt.rcParams.update(params)\n",
    "\n",
    "plt.pie(pads_emotions, labels = pads_emotions.index, autopct='%1.1f%%',\\\n",
    "        pctdistance=1.1, labeldistance=1.2)\n",
    "plt.title('Emotions toward Pads', fontsize=18)\n",
    "plt.savefig('./images/pads_emotions_pie.png')\n",
    "plt.show()"
   ]
  },
  {
   "cell_type": "markdown",
   "metadata": {},
   "source": [
    "### Make Wordclouds"
   ]
  },
  {
   "cell_type": "code",
   "execution_count": null,
   "metadata": {},
   "outputs": [],
   "source": [
    "from wordcloud import WordCloud, STOPWORDS\n",
    "import matplotlib.pyplot as plt"
   ]
  },
  {
   "cell_type": "code",
   "execution_count": null,
   "metadata": {},
   "outputs": [],
   "source": [
    "alternate_period_management = survey[21]"
   ]
  },
  {
   "cell_type": "code",
   "execution_count": null,
   "metadata": {},
   "outputs": [],
   "source": [
    "### reuseable pads/period underwear\n",
    "# get all words into list \n",
    "alternate_period_management_list = survey[21].tolist()\n",
    "# make sure all words are strings\n",
    "alternate_period_management_list = [str(w) for w in alternate_period_management_list]\n",
    "# make into single string\n",
    "alternate_period_management_string = \" \".join(alternate_period_management_list)\n",
    "\n",
    "# create wordcloud\n",
    "alternate_period_management_wordcloud = WordCloud(stopwords=STOPWORDS, background_color='white', width=1000,\\\n",
    "                           height=1000, min_font_size=18).generate(alternate_period_management_string)\n",
    "plt.imshow(alternate_period_management_wordcloud)\n",
    "plt.axis('off')\n",
    "plt.savefig('./images/alternate_period_management_wordcloud.png')\n",
    "plt.show()"
   ]
  },
  {
   "cell_type": "code",
   "execution_count": null,
   "metadata": {},
   "outputs": [],
   "source": [
    "### reuseable pads/period underwear\n",
    "# get all words into list \n",
    "menstrual_cup_word_list = survey[14].tolist()\n",
    "# make sure all words are strings\n",
    "menstrual_cup_word_list = [str(w) for w in menstrual_cup_word_list]\n",
    "# make into single string\n",
    "menstrual_cup_string = \" \".join(menstrual_cup_word_list)\n",
    "\n",
    "# create wordcloud\n",
    "menstrual_cup_wordcloud = WordCloud(stopwords=STOPWORDS, background_color='white', width=1000,\\\n",
    "                           height=1000, min_font_size=18).generate(menstrual_cup_string)\n",
    "plt.imshow(menstrual_cup_wordcloud)\n",
    "plt.axis('off')\n",
    "plt.savefig('./images/menstrual_cups_wordcloud.png')\n",
    "plt.show()"
   ]
  },
  {
   "cell_type": "code",
   "execution_count": null,
   "metadata": {},
   "outputs": [],
   "source": [
    "### menstrual cups\n",
    "# get all words into list \n",
    "reuseable_pads_word_list = survey[18].tolist()\n",
    "# make sure all words are strings\n",
    "reuseable_pads_word_list = [str(w) for w in reuseable_pads_word_list]\n",
    "# make into single string\n",
    "reuseable_pads_string = \" \".join(reuseable_pads_word_list)\n",
    "\n",
    "# create wordcloud\n",
    "reuseable_pads_wordcloud = WordCloud(stopwords=STOPWORDS, background_color='white', width=1000,\\\n",
    "                           height=1000, min_font_size=18).generate(reuseable_pads_string)\n",
    "plt.imshow(reuseable_pads_wordcloud)\n",
    "plt.axis('off')\n",
    "plt.savefig('./images/reuseable_products_wordcloud.png')\n",
    "plt.show()"
   ]
  },
  {
   "cell_type": "code",
   "execution_count": null,
   "metadata": {},
   "outputs": [],
   "source": [
    "### tampons\n",
    "# get all words into list \n",
    "tampons_word_list = survey[10].tolist()\n",
    "# make sure all words are strings\n",
    "tampons_word_list = [str(w) for w in tampons_word_list]\n",
    "# make into single string\n",
    "tampons_string = \" \".join(tampons_word_list)\n",
    "\n",
    "# create wordcloud\n",
    "tampons_wordcloud = WordCloud(stopwords=STOPWORDS, background_color='white', width=1000,\\\n",
    "                           height=1000, min_font_size=18).generate(tampons_string)\n",
    "plt.imshow(tampons_wordcloud)\n",
    "plt.axis('off')\n",
    "plt.savefig('./images/tampons_wordcloud.png')\n",
    "plt.show()"
   ]
  },
  {
   "cell_type": "code",
   "execution_count": null,
   "metadata": {},
   "outputs": [],
   "source": [
    "### Pads\n",
    "# get all words into list \n",
    "pads_word_list = survey[6].tolist()\n",
    "# make sure all words are strings\n",
    "pads_word_list = [str(w) for w in pads_word_list]\n",
    "# make into single string\n",
    "pads_string = \" \".join(pads_word_list)\n",
    "\n",
    "# create wordcloud\n",
    "pads_wordcloud = WordCloud(stopwords=STOPWORDS, background_color='white', width=1000,\\\n",
    "                           height=1000, min_font_size=18).generate(pads_string)\n",
    "plt.imshow(pads_wordcloud)\n",
    "plt.axis('off')\n",
    "plt.savefig('./images/pads_wordcloud.png')\n",
    "plt.show()"
   ]
  },
  {
   "cell_type": "code",
   "execution_count": null,
   "metadata": {},
   "outputs": [],
   "source": [
    "survey.head()"
   ]
  },
  {
   "cell_type": "markdown",
   "metadata": {},
   "source": [
    "### NLP  and clustering"
   ]
  }
 ],
 "metadata": {
  "kernelspec": {
   "display_name": "Python 3",
   "language": "python",
   "name": "python3"
  },
  "language_info": {
   "codemirror_mode": {
    "name": "ipython",
    "version": 3
   },
   "file_extension": ".py",
   "mimetype": "text/x-python",
   "name": "python",
   "nbconvert_exporter": "python",
   "pygments_lexer": "ipython3",
   "version": "3.6.5"
  }
 },
 "nbformat": 4,
 "nbformat_minor": 2
}
